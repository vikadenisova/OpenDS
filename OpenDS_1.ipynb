{
  "nbformat": 4,
  "nbformat_minor": 0,
  "metadata": {
    "anaconda-cloud": {},
    "kernelspec": {
      "display_name": "Python 3",
      "language": "python",
      "name": "python3"
    },
    "language_info": {
      "codemirror_mode": {
        "name": "ipython",
        "version": 3
      },
      "file_extension": ".py",
      "mimetype": "text/x-python",
      "name": "python",
      "nbconvert_exporter": "python",
      "pygments_lexer": "ipython3",
      "version": "3.7.6"
    },
    "colab": {
      "name": "OpenDS_1.ipynb",
      "provenance": [],
      "include_colab_link": true
    }
  },
  "cells": [
    {
      "cell_type": "markdown",
      "metadata": {
        "id": "view-in-github",
        "colab_type": "text"
      },
      "source": [
        "<a href=\"https://colab.research.google.com/github/vikadenisova/OpenDS_homework/blob/main/OpenDS_1.ipynb\" target=\"_parent\"><img src=\"https://colab.research.google.com/assets/colab-badge.svg\" alt=\"Open In Colab\"/></a>"
      ]
    },
    {
      "cell_type": "markdown",
      "metadata": {
        "id": "1lJEFkB2slQN"
      },
      "source": [
        "\n",
        "<img src=\"../../img/ods_stickers.jpg\">\n",
        "\n",
        "## <center> [mlcourse.ai](https://mlcourse.ai) – открытый курс OpenDataScience по машинному обучению \n",
        "\n",
        "Автор материала: Юрий Кашницкий (@yorko в Slack ODS). Материал распространяется на условиях лицензии [Creative Commons CC BY-NC-SA 4.0](https://creativecommons.org/licenses/by-nc-sa/4.0/). Можно использовать в любых целях (редактировать, поправлять и брать за основу), кроме коммерческих, но с обязательным упоминанием автора материала."
      ]
    },
    {
      "cell_type": "markdown",
      "metadata": {
        "id": "qeu0z5G_slQT"
      },
      "source": [
        "# <center>Домашнее задание № 1 (демо).<br> Анализ данных по доходу населения UCI Adult</center>"
      ]
    },
    {
      "cell_type": "markdown",
      "metadata": {
        "id": "LL1nJ7pzslQU"
      },
      "source": [
        "**В задании предлагается с помощью Pandas ответить на несколько вопросов по данным репозитория UCI [Adult](https://archive.ics.uci.edu/ml/datasets/Adult) (качать данные не надо – они уже есть в репозитории). Для отправки решений используйте [онлайн-форму](https://docs.google.com/forms/d/1xAzU-5N6oEeR4UG8G44V6XL-Kbr4WYcPBG45Kijge2Y).**"
      ]
    },
    {
      "cell_type": "markdown",
      "metadata": {
        "id": "lxgpYek0slQU"
      },
      "source": [
        "Уникальные значения признаков (больше информации по ссылке выше):\n",
        "- age: continuous.\n",
        "- workclass: Private, Self-emp-not-inc, Self-emp-inc, Federal-gov, Local-gov, State-gov, Without-pay, Never-worked.\n",
        "- fnlwgt: continuous.\n",
        "- education: Bachelors, Some-college, 11th, HS-grad, Prof-school, Assoc-acdm, Assoc-voc, 9th, 7th-8th, 12th, Masters, 1st-4th, 10th, Doctorate, 5th-6th, Preschool.\n",
        "- education-num: continuous.\n",
        "- marital-status: Married-civ-spouse, Divorced, Never-married, Separated, Widowed, Married-spouse-absent, Married-AF-spouse.\n",
        "- occupation: Tech-support, Craft-repair, Other-service, Sales, Exec-managerial, Prof-specialty, Handlers-cleaners, Machine-op-inspct, Adm-clerical, Farming-fishing, Transport-moving, Priv-house-serv, Protective-serv, Armed-Forces.\n",
        "- relationship: Wife, Own-child, Husband, Not-in-family, Other-relative, Unmarried.\n",
        "- race: White, Asian-Pac-Islander, Amer-Indian-Eskimo, Other, Black.\n",
        "- sex: Female, Male.\n",
        "- capital-gain: continuous.\n",
        "- capital-loss: continuous.\n",
        "- hours-per-week: continuous.\n",
        "- native-country: United-States, Cambodia, England, Puerto-Rico, Canada, Germany, Outlying-US(Guam-USVI-etc), India, Japan, Greece, South, China, Cuba, Iran, Honduras, Philippines, Italy, Poland, Jamaica, Vietnam, Mexico, Portugal, Ireland, France, Dominican-Republic, Laos, Ecuador, Taiwan, Haiti, Columbia, Hungary, Guatemala, Nicaragua, Scotland, Thailand, Yugoslavia, El-Salvador, Trinadad&Tobago, Peru, Hong, Holand-Netherlands.   \n",
        "- salary: >50K,<=50K"
      ]
    },
    {
      "cell_type": "code",
      "metadata": {
        "id": "7Ags3CMTslQV"
      },
      "source": [
        "import pandas as pd"
      ],
      "execution_count": 4,
      "outputs": []
    },
    {
      "cell_type": "code",
      "metadata": {
        "colab": {
          "base_uri": "https://localhost:8080/",
          "height": 288
        },
        "id": "7mMDKJ09slQW",
        "outputId": "56eca4db-91b3-4a48-b1e6-1506a4744b0a"
      },
      "source": [
        "data = pd.read_csv(\"https://github.com/Yorko/mlcourse.ai/raw/master/data/adult.data.csv\")\n",
        "data.head()"
      ],
      "execution_count": 5,
      "outputs": [
        {
          "output_type": "execute_result",
          "data": {
            "text/html": [
              "<div>\n",
              "<style scoped>\n",
              "    .dataframe tbody tr th:only-of-type {\n",
              "        vertical-align: middle;\n",
              "    }\n",
              "\n",
              "    .dataframe tbody tr th {\n",
              "        vertical-align: top;\n",
              "    }\n",
              "\n",
              "    .dataframe thead th {\n",
              "        text-align: right;\n",
              "    }\n",
              "</style>\n",
              "<table border=\"1\" class=\"dataframe\">\n",
              "  <thead>\n",
              "    <tr style=\"text-align: right;\">\n",
              "      <th></th>\n",
              "      <th>age</th>\n",
              "      <th>workclass</th>\n",
              "      <th>fnlwgt</th>\n",
              "      <th>education</th>\n",
              "      <th>education-num</th>\n",
              "      <th>marital-status</th>\n",
              "      <th>occupation</th>\n",
              "      <th>relationship</th>\n",
              "      <th>race</th>\n",
              "      <th>sex</th>\n",
              "      <th>capital-gain</th>\n",
              "      <th>capital-loss</th>\n",
              "      <th>hours-per-week</th>\n",
              "      <th>native-country</th>\n",
              "      <th>salary</th>\n",
              "    </tr>\n",
              "  </thead>\n",
              "  <tbody>\n",
              "    <tr>\n",
              "      <th>0</th>\n",
              "      <td>39</td>\n",
              "      <td>State-gov</td>\n",
              "      <td>77516</td>\n",
              "      <td>Bachelors</td>\n",
              "      <td>13</td>\n",
              "      <td>Never-married</td>\n",
              "      <td>Adm-clerical</td>\n",
              "      <td>Not-in-family</td>\n",
              "      <td>White</td>\n",
              "      <td>Male</td>\n",
              "      <td>2174</td>\n",
              "      <td>0</td>\n",
              "      <td>40</td>\n",
              "      <td>United-States</td>\n",
              "      <td>&lt;=50K</td>\n",
              "    </tr>\n",
              "    <tr>\n",
              "      <th>1</th>\n",
              "      <td>50</td>\n",
              "      <td>Self-emp-not-inc</td>\n",
              "      <td>83311</td>\n",
              "      <td>Bachelors</td>\n",
              "      <td>13</td>\n",
              "      <td>Married-civ-spouse</td>\n",
              "      <td>Exec-managerial</td>\n",
              "      <td>Husband</td>\n",
              "      <td>White</td>\n",
              "      <td>Male</td>\n",
              "      <td>0</td>\n",
              "      <td>0</td>\n",
              "      <td>13</td>\n",
              "      <td>United-States</td>\n",
              "      <td>&lt;=50K</td>\n",
              "    </tr>\n",
              "    <tr>\n",
              "      <th>2</th>\n",
              "      <td>38</td>\n",
              "      <td>Private</td>\n",
              "      <td>215646</td>\n",
              "      <td>HS-grad</td>\n",
              "      <td>9</td>\n",
              "      <td>Divorced</td>\n",
              "      <td>Handlers-cleaners</td>\n",
              "      <td>Not-in-family</td>\n",
              "      <td>White</td>\n",
              "      <td>Male</td>\n",
              "      <td>0</td>\n",
              "      <td>0</td>\n",
              "      <td>40</td>\n",
              "      <td>United-States</td>\n",
              "      <td>&lt;=50K</td>\n",
              "    </tr>\n",
              "    <tr>\n",
              "      <th>3</th>\n",
              "      <td>53</td>\n",
              "      <td>Private</td>\n",
              "      <td>234721</td>\n",
              "      <td>11th</td>\n",
              "      <td>7</td>\n",
              "      <td>Married-civ-spouse</td>\n",
              "      <td>Handlers-cleaners</td>\n",
              "      <td>Husband</td>\n",
              "      <td>Black</td>\n",
              "      <td>Male</td>\n",
              "      <td>0</td>\n",
              "      <td>0</td>\n",
              "      <td>40</td>\n",
              "      <td>United-States</td>\n",
              "      <td>&lt;=50K</td>\n",
              "    </tr>\n",
              "    <tr>\n",
              "      <th>4</th>\n",
              "      <td>28</td>\n",
              "      <td>Private</td>\n",
              "      <td>338409</td>\n",
              "      <td>Bachelors</td>\n",
              "      <td>13</td>\n",
              "      <td>Married-civ-spouse</td>\n",
              "      <td>Prof-specialty</td>\n",
              "      <td>Wife</td>\n",
              "      <td>Black</td>\n",
              "      <td>Female</td>\n",
              "      <td>0</td>\n",
              "      <td>0</td>\n",
              "      <td>40</td>\n",
              "      <td>Cuba</td>\n",
              "      <td>&lt;=50K</td>\n",
              "    </tr>\n",
              "  </tbody>\n",
              "</table>\n",
              "</div>"
            ],
            "text/plain": [
              "   age         workclass  fnlwgt  ... hours-per-week  native-country salary\n",
              "0   39         State-gov   77516  ...             40   United-States  <=50K\n",
              "1   50  Self-emp-not-inc   83311  ...             13   United-States  <=50K\n",
              "2   38           Private  215646  ...             40   United-States  <=50K\n",
              "3   53           Private  234721  ...             40   United-States  <=50K\n",
              "4   28           Private  338409  ...             40            Cuba  <=50K\n",
              "\n",
              "[5 rows x 15 columns]"
            ]
          },
          "metadata": {},
          "execution_count": 5
        }
      ]
    },
    {
      "cell_type": "code",
      "metadata": {
        "colab": {
          "base_uri": "https://localhost:8080/"
        },
        "id": "lvduShZu8yPC",
        "outputId": "83411888-0647-46ad-a31c-8b141213e911"
      },
      "source": [
        "data.shape"
      ],
      "execution_count": 133,
      "outputs": [
        {
          "output_type": "execute_result",
          "data": {
            "text/plain": [
              "(32561, 15)"
            ]
          },
          "metadata": {},
          "execution_count": 133
        }
      ]
    },
    {
      "cell_type": "markdown",
      "metadata": {
        "id": "2f63BRdTslQX"
      },
      "source": [
        "**1. Сколько мужчин и женщин (признак *sex*) представлено в этом наборе данных?**"
      ]
    },
    {
      "cell_type": "code",
      "metadata": {
        "collapsed": true,
        "colab": {
          "base_uri": "https://localhost:8080/"
        },
        "id": "qo-xbjgSslQY",
        "outputId": "cff75527-6757-487f-e40e-c29247a9f50b"
      },
      "source": [
        "data.sex.value_counts()"
      ],
      "execution_count": 37,
      "outputs": [
        {
          "output_type": "execute_result",
          "data": {
            "text/plain": [
              "Male      21790\n",
              "Female    10771\n",
              "Name: sex, dtype: int64"
            ]
          },
          "metadata": {},
          "execution_count": 37
        }
      ]
    },
    {
      "cell_type": "markdown",
      "metadata": {
        "id": "GSBz7_N-slQY"
      },
      "source": [
        "**2. Каков средний возраст (признак *age*) женщин?**"
      ]
    },
    {
      "cell_type": "code",
      "metadata": {
        "collapsed": true,
        "colab": {
          "base_uri": "https://localhost:8080/"
        },
        "id": "rUYkz9ZBslQZ",
        "outputId": "44f8e058-8129-4932-c4f4-3c3db0c30947"
      },
      "source": [
        "data[data.sex == 'Female'].age.mean()"
      ],
      "execution_count": 130,
      "outputs": [
        {
          "output_type": "execute_result",
          "data": {
            "text/plain": [
              "36.85823043357163"
            ]
          },
          "metadata": {},
          "execution_count": 130
        }
      ]
    },
    {
      "cell_type": "markdown",
      "metadata": {
        "id": "dmYYhUHSslQa"
      },
      "source": [
        "**3. Какова доля граждан Германии (признак *native-country*)?**"
      ]
    },
    {
      "cell_type": "code",
      "metadata": {
        "colab": {
          "base_uri": "https://localhost:8080/"
        },
        "id": "mk2u3BXctrop",
        "outputId": "7731e570-07b7-40bb-ef66-e78c6bffa157"
      },
      "source": [
        "data['native-country'].unique()"
      ],
      "execution_count": 17,
      "outputs": [
        {
          "output_type": "execute_result",
          "data": {
            "text/plain": [
              "array(['United-States', 'Cuba', 'Jamaica', 'India', '?', 'Mexico',\n",
              "       'South', 'Puerto-Rico', 'Honduras', 'England', 'Canada', 'Germany',\n",
              "       'Iran', 'Philippines', 'Italy', 'Poland', 'Columbia', 'Cambodia',\n",
              "       'Thailand', 'Ecuador', 'Laos', 'Taiwan', 'Haiti', 'Portugal',\n",
              "       'Dominican-Republic', 'El-Salvador', 'France', 'Guatemala',\n",
              "       'China', 'Japan', 'Yugoslavia', 'Peru',\n",
              "       'Outlying-US(Guam-USVI-etc)', 'Scotland', 'Trinadad&Tobago',\n",
              "       'Greece', 'Nicaragua', 'Vietnam', 'Hong', 'Ireland', 'Hungary',\n",
              "       'Holand-Netherlands'], dtype=object)"
            ]
          },
          "metadata": {},
          "execution_count": 17
        }
      ]
    },
    {
      "cell_type": "code",
      "metadata": {
        "collapsed": true,
        "colab": {
          "base_uri": "https://localhost:8080/"
        },
        "id": "VPkaF7zjslQa",
        "outputId": "8a970113-a472-44c8-d1a3-496ba7819d58"
      },
      "source": [
        "data[data['native-country']=='Germany']['native-country'].count() / (data['native-country'].count()) *100"
      ],
      "execution_count": 135,
      "outputs": [
        {
          "output_type": "execute_result",
          "data": {
            "text/plain": [
              "0.42074874850281013"
            ]
          },
          "metadata": {},
          "execution_count": 135
        }
      ]
    },
    {
      "cell_type": "markdown",
      "metadata": {
        "id": "Nd31raTrslQa"
      },
      "source": [
        "**4-5. Каковы средние значения и среднеквадратичные отклонения возраста тех, кто получает более 50K в год (признак *salary*) и тех, кто получает менее 50K в год? **"
      ]
    },
    {
      "cell_type": "code",
      "metadata": {
        "colab": {
          "base_uri": "https://localhost:8080/",
          "height": 141
        },
        "id": "DZMsotD0uQxA",
        "outputId": "6e735cef-8d4f-4ba0-8c7d-3cdca4b8a9c8"
      },
      "source": [
        "data.groupby(['salary'])['age'].describe(percentiles=[])"
      ],
      "execution_count": 23,
      "outputs": [
        {
          "output_type": "execute_result",
          "data": {
            "text/html": [
              "<div>\n",
              "<style scoped>\n",
              "    .dataframe tbody tr th:only-of-type {\n",
              "        vertical-align: middle;\n",
              "    }\n",
              "\n",
              "    .dataframe tbody tr th {\n",
              "        vertical-align: top;\n",
              "    }\n",
              "\n",
              "    .dataframe thead th {\n",
              "        text-align: right;\n",
              "    }\n",
              "</style>\n",
              "<table border=\"1\" class=\"dataframe\">\n",
              "  <thead>\n",
              "    <tr style=\"text-align: right;\">\n",
              "      <th></th>\n",
              "      <th>count</th>\n",
              "      <th>mean</th>\n",
              "      <th>std</th>\n",
              "      <th>min</th>\n",
              "      <th>50%</th>\n",
              "      <th>max</th>\n",
              "    </tr>\n",
              "    <tr>\n",
              "      <th>salary</th>\n",
              "      <th></th>\n",
              "      <th></th>\n",
              "      <th></th>\n",
              "      <th></th>\n",
              "      <th></th>\n",
              "      <th></th>\n",
              "    </tr>\n",
              "  </thead>\n",
              "  <tbody>\n",
              "    <tr>\n",
              "      <th>&lt;=50K</th>\n",
              "      <td>24720.0</td>\n",
              "      <td>36.783738</td>\n",
              "      <td>14.020088</td>\n",
              "      <td>17.0</td>\n",
              "      <td>34.0</td>\n",
              "      <td>90.0</td>\n",
              "    </tr>\n",
              "    <tr>\n",
              "      <th>&gt;50K</th>\n",
              "      <td>7841.0</td>\n",
              "      <td>44.249841</td>\n",
              "      <td>10.519028</td>\n",
              "      <td>19.0</td>\n",
              "      <td>44.0</td>\n",
              "      <td>90.0</td>\n",
              "    </tr>\n",
              "  </tbody>\n",
              "</table>\n",
              "</div>"
            ],
            "text/plain": [
              "          count       mean        std   min   50%   max\n",
              "salary                                                 \n",
              "<=50K   24720.0  36.783738  14.020088  17.0  34.0  90.0\n",
              ">50K     7841.0  44.249841  10.519028  19.0  44.0  90.0"
            ]
          },
          "metadata": {},
          "execution_count": 23
        }
      ]
    },
    {
      "cell_type": "markdown",
      "metadata": {
        "id": "tdU42MqvslQb"
      },
      "source": [
        "**6. Правда ли, что люди, которые получают больше 50k, имеют как минимум высшее образование? (признак *education – Bachelors, Prof-school, Assoc-acdm, Assoc-voc, Masters* или *Doctorate*)**"
      ]
    },
    {
      "cell_type": "code",
      "metadata": {
        "collapsed": true,
        "colab": {
          "base_uri": "https://localhost:8080/",
          "height": 158
        },
        "id": "lRV1151JslQb",
        "outputId": "314a947b-bc67-44fb-fb1c-aa786ad32a90"
      },
      "source": [
        "pd.crosstab(data['salary'], data['education'], normalize=True)"
      ],
      "execution_count": 26,
      "outputs": [
        {
          "output_type": "execute_result",
          "data": {
            "text/html": [
              "<div>\n",
              "<style scoped>\n",
              "    .dataframe tbody tr th:only-of-type {\n",
              "        vertical-align: middle;\n",
              "    }\n",
              "\n",
              "    .dataframe tbody tr th {\n",
              "        vertical-align: top;\n",
              "    }\n",
              "\n",
              "    .dataframe thead th {\n",
              "        text-align: right;\n",
              "    }\n",
              "</style>\n",
              "<table border=\"1\" class=\"dataframe\">\n",
              "  <thead>\n",
              "    <tr style=\"text-align: right;\">\n",
              "      <th>education</th>\n",
              "      <th>10th</th>\n",
              "      <th>11th</th>\n",
              "      <th>12th</th>\n",
              "      <th>1st-4th</th>\n",
              "      <th>5th-6th</th>\n",
              "      <th>7th-8th</th>\n",
              "      <th>9th</th>\n",
              "      <th>Assoc-acdm</th>\n",
              "      <th>Assoc-voc</th>\n",
              "      <th>Bachelors</th>\n",
              "      <th>Doctorate</th>\n",
              "      <th>HS-grad</th>\n",
              "      <th>Masters</th>\n",
              "      <th>Preschool</th>\n",
              "      <th>Prof-school</th>\n",
              "      <th>Some-college</th>\n",
              "    </tr>\n",
              "    <tr>\n",
              "      <th>salary</th>\n",
              "      <th></th>\n",
              "      <th></th>\n",
              "      <th></th>\n",
              "      <th></th>\n",
              "      <th></th>\n",
              "      <th></th>\n",
              "      <th></th>\n",
              "      <th></th>\n",
              "      <th></th>\n",
              "      <th></th>\n",
              "      <th></th>\n",
              "      <th></th>\n",
              "      <th></th>\n",
              "      <th></th>\n",
              "      <th></th>\n",
              "      <th></th>\n",
              "    </tr>\n",
              "  </thead>\n",
              "  <tbody>\n",
              "    <tr>\n",
              "      <th>&lt;=50K</th>\n",
              "      <td>0.026750</td>\n",
              "      <td>0.034243</td>\n",
              "      <td>0.012285</td>\n",
              "      <td>0.004975</td>\n",
              "      <td>0.009736</td>\n",
              "      <td>0.018611</td>\n",
              "      <td>0.014957</td>\n",
              "      <td>0.024631</td>\n",
              "      <td>0.031357</td>\n",
              "      <td>0.09625</td>\n",
              "      <td>0.003286</td>\n",
              "      <td>0.271060</td>\n",
              "      <td>0.023464</td>\n",
              "      <td>0.001566</td>\n",
              "      <td>0.004699</td>\n",
              "      <td>0.181321</td>\n",
              "    </tr>\n",
              "    <tr>\n",
              "      <th>&gt;50K</th>\n",
              "      <td>0.001904</td>\n",
              "      <td>0.001843</td>\n",
              "      <td>0.001013</td>\n",
              "      <td>0.000184</td>\n",
              "      <td>0.000491</td>\n",
              "      <td>0.001228</td>\n",
              "      <td>0.000829</td>\n",
              "      <td>0.008139</td>\n",
              "      <td>0.011087</td>\n",
              "      <td>0.06821</td>\n",
              "      <td>0.009398</td>\n",
              "      <td>0.051442</td>\n",
              "      <td>0.029452</td>\n",
              "      <td>0.000000</td>\n",
              "      <td>0.012991</td>\n",
              "      <td>0.042597</td>\n",
              "    </tr>\n",
              "  </tbody>\n",
              "</table>\n",
              "</div>"
            ],
            "text/plain": [
              "education      10th      11th      12th  ...  Preschool  Prof-school  Some-college\n",
              "salary                                   ...                                      \n",
              "<=50K      0.026750  0.034243  0.012285  ...   0.001566     0.004699      0.181321\n",
              ">50K       0.001904  0.001843  0.001013  ...   0.000000     0.012991      0.042597\n",
              "\n",
              "[2 rows x 16 columns]"
            ]
          },
          "metadata": {},
          "execution_count": 26
        }
      ]
    },
    {
      "cell_type": "code",
      "metadata": {
        "colab": {
          "base_uri": "https://localhost:8080/",
          "height": 574
        },
        "id": "WZB22RfFvdaQ",
        "outputId": "d6e881b1-4af8-4239-b5dd-a7fd82a05915"
      },
      "source": [
        "data.pivot_table(['salary'], \n",
        "['education'], aggfunc='count')"
      ],
      "execution_count": 36,
      "outputs": [
        {
          "output_type": "execute_result",
          "data": {
            "text/html": [
              "<div>\n",
              "<style scoped>\n",
              "    .dataframe tbody tr th:only-of-type {\n",
              "        vertical-align: middle;\n",
              "    }\n",
              "\n",
              "    .dataframe tbody tr th {\n",
              "        vertical-align: top;\n",
              "    }\n",
              "\n",
              "    .dataframe thead th {\n",
              "        text-align: right;\n",
              "    }\n",
              "</style>\n",
              "<table border=\"1\" class=\"dataframe\">\n",
              "  <thead>\n",
              "    <tr style=\"text-align: right;\">\n",
              "      <th></th>\n",
              "      <th>salary</th>\n",
              "    </tr>\n",
              "    <tr>\n",
              "      <th>education</th>\n",
              "      <th></th>\n",
              "    </tr>\n",
              "  </thead>\n",
              "  <tbody>\n",
              "    <tr>\n",
              "      <th>10th</th>\n",
              "      <td>933</td>\n",
              "    </tr>\n",
              "    <tr>\n",
              "      <th>11th</th>\n",
              "      <td>1175</td>\n",
              "    </tr>\n",
              "    <tr>\n",
              "      <th>12th</th>\n",
              "      <td>433</td>\n",
              "    </tr>\n",
              "    <tr>\n",
              "      <th>1st-4th</th>\n",
              "      <td>168</td>\n",
              "    </tr>\n",
              "    <tr>\n",
              "      <th>5th-6th</th>\n",
              "      <td>333</td>\n",
              "    </tr>\n",
              "    <tr>\n",
              "      <th>7th-8th</th>\n",
              "      <td>646</td>\n",
              "    </tr>\n",
              "    <tr>\n",
              "      <th>9th</th>\n",
              "      <td>514</td>\n",
              "    </tr>\n",
              "    <tr>\n",
              "      <th>Assoc-acdm</th>\n",
              "      <td>1067</td>\n",
              "    </tr>\n",
              "    <tr>\n",
              "      <th>Assoc-voc</th>\n",
              "      <td>1382</td>\n",
              "    </tr>\n",
              "    <tr>\n",
              "      <th>Bachelors</th>\n",
              "      <td>5355</td>\n",
              "    </tr>\n",
              "    <tr>\n",
              "      <th>Doctorate</th>\n",
              "      <td>413</td>\n",
              "    </tr>\n",
              "    <tr>\n",
              "      <th>HS-grad</th>\n",
              "      <td>10501</td>\n",
              "    </tr>\n",
              "    <tr>\n",
              "      <th>Masters</th>\n",
              "      <td>1723</td>\n",
              "    </tr>\n",
              "    <tr>\n",
              "      <th>Preschool</th>\n",
              "      <td>51</td>\n",
              "    </tr>\n",
              "    <tr>\n",
              "      <th>Prof-school</th>\n",
              "      <td>576</td>\n",
              "    </tr>\n",
              "    <tr>\n",
              "      <th>Some-college</th>\n",
              "      <td>7291</td>\n",
              "    </tr>\n",
              "  </tbody>\n",
              "</table>\n",
              "</div>"
            ],
            "text/plain": [
              "              salary\n",
              "education           \n",
              "10th             933\n",
              "11th            1175\n",
              "12th             433\n",
              "1st-4th          168\n",
              "5th-6th          333\n",
              "7th-8th          646\n",
              "9th              514\n",
              "Assoc-acdm      1067\n",
              "Assoc-voc       1382\n",
              "Bachelors       5355\n",
              "Doctorate        413\n",
              "HS-grad        10501\n",
              "Masters         1723\n",
              "Preschool         51\n",
              "Prof-school      576\n",
              "Some-college    7291"
            ]
          },
          "metadata": {},
          "execution_count": 36
        }
      ]
    },
    {
      "cell_type": "markdown",
      "metadata": {
        "id": "u19dKixKslQb"
      },
      "source": [
        "**7. Выведите статистику возраста для каждой расы (признак *race*) и каждого пола. Используйте *groupby* и *describe*. Найдите таким образом максимальный возраст мужчин расы *Amer-Indian-Eskimo*.**"
      ]
    },
    {
      "cell_type": "code",
      "metadata": {
        "colab": {
          "base_uri": "https://localhost:8080/",
          "height": 234
        },
        "id": "IfDGgf_3xIVI",
        "outputId": "12400533-d0d3-45fc-f8b7-adf5ad2c2e8f"
      },
      "source": [
        "data.groupby(['race'])['age'].describe(percentiles=[])"
      ],
      "execution_count": 38,
      "outputs": [
        {
          "output_type": "execute_result",
          "data": {
            "text/html": [
              "<div>\n",
              "<style scoped>\n",
              "    .dataframe tbody tr th:only-of-type {\n",
              "        vertical-align: middle;\n",
              "    }\n",
              "\n",
              "    .dataframe tbody tr th {\n",
              "        vertical-align: top;\n",
              "    }\n",
              "\n",
              "    .dataframe thead th {\n",
              "        text-align: right;\n",
              "    }\n",
              "</style>\n",
              "<table border=\"1\" class=\"dataframe\">\n",
              "  <thead>\n",
              "    <tr style=\"text-align: right;\">\n",
              "      <th></th>\n",
              "      <th>count</th>\n",
              "      <th>mean</th>\n",
              "      <th>std</th>\n",
              "      <th>min</th>\n",
              "      <th>50%</th>\n",
              "      <th>max</th>\n",
              "    </tr>\n",
              "    <tr>\n",
              "      <th>race</th>\n",
              "      <th></th>\n",
              "      <th></th>\n",
              "      <th></th>\n",
              "      <th></th>\n",
              "      <th></th>\n",
              "      <th></th>\n",
              "    </tr>\n",
              "  </thead>\n",
              "  <tbody>\n",
              "    <tr>\n",
              "      <th>Amer-Indian-Eskimo</th>\n",
              "      <td>311.0</td>\n",
              "      <td>37.173633</td>\n",
              "      <td>12.447130</td>\n",
              "      <td>17.0</td>\n",
              "      <td>35.0</td>\n",
              "      <td>82.0</td>\n",
              "    </tr>\n",
              "    <tr>\n",
              "      <th>Asian-Pac-Islander</th>\n",
              "      <td>1039.0</td>\n",
              "      <td>37.746872</td>\n",
              "      <td>12.825133</td>\n",
              "      <td>17.0</td>\n",
              "      <td>36.0</td>\n",
              "      <td>90.0</td>\n",
              "    </tr>\n",
              "    <tr>\n",
              "      <th>Black</th>\n",
              "      <td>3124.0</td>\n",
              "      <td>37.767926</td>\n",
              "      <td>12.759290</td>\n",
              "      <td>17.0</td>\n",
              "      <td>36.0</td>\n",
              "      <td>90.0</td>\n",
              "    </tr>\n",
              "    <tr>\n",
              "      <th>Other</th>\n",
              "      <td>271.0</td>\n",
              "      <td>33.457565</td>\n",
              "      <td>11.538865</td>\n",
              "      <td>17.0</td>\n",
              "      <td>31.0</td>\n",
              "      <td>77.0</td>\n",
              "    </tr>\n",
              "    <tr>\n",
              "      <th>White</th>\n",
              "      <td>27816.0</td>\n",
              "      <td>38.769881</td>\n",
              "      <td>13.782306</td>\n",
              "      <td>17.0</td>\n",
              "      <td>37.0</td>\n",
              "      <td>90.0</td>\n",
              "    </tr>\n",
              "  </tbody>\n",
              "</table>\n",
              "</div>"
            ],
            "text/plain": [
              "                      count       mean        std   min   50%   max\n",
              "race                                                               \n",
              "Amer-Indian-Eskimo    311.0  37.173633  12.447130  17.0  35.0  82.0\n",
              "Asian-Pac-Islander   1039.0  37.746872  12.825133  17.0  36.0  90.0\n",
              "Black                3124.0  37.767926  12.759290  17.0  36.0  90.0\n",
              "Other                 271.0  33.457565  11.538865  17.0  31.0  77.0\n",
              "White               27816.0  38.769881  13.782306  17.0  37.0  90.0"
            ]
          },
          "metadata": {},
          "execution_count": 38
        }
      ]
    },
    {
      "cell_type": "markdown",
      "metadata": {
        "id": "Rc9c9UakslQc"
      },
      "source": [
        "**8. Среди кого больше доля зарабатывающих много (>50K): среди женатых или холостых мужчин (признак *marital-status*)? Женатыми считаем тех, у кого *marital-status* начинается с *Married* (Married-civ-spouse, Married-spouse-absent или Married-AF-spouse), остальных считаем холостыми.**"
      ]
    },
    {
      "cell_type": "code",
      "metadata": {
        "colab": {
          "base_uri": "https://localhost:8080/",
          "height": 296
        },
        "id": "Fw7RiJIdz2JK",
        "outputId": "17608a94-d665-4e0b-d221-6a6470480b08"
      },
      "source": [
        "pd.crosstab(data['marital-status'], data['salary'])"
      ],
      "execution_count": 60,
      "outputs": [
        {
          "output_type": "execute_result",
          "data": {
            "text/html": [
              "<div>\n",
              "<style scoped>\n",
              "    .dataframe tbody tr th:only-of-type {\n",
              "        vertical-align: middle;\n",
              "    }\n",
              "\n",
              "    .dataframe tbody tr th {\n",
              "        vertical-align: top;\n",
              "    }\n",
              "\n",
              "    .dataframe thead th {\n",
              "        text-align: right;\n",
              "    }\n",
              "</style>\n",
              "<table border=\"1\" class=\"dataframe\">\n",
              "  <thead>\n",
              "    <tr style=\"text-align: right;\">\n",
              "      <th>salary</th>\n",
              "      <th>&lt;=50K</th>\n",
              "      <th>&gt;50K</th>\n",
              "    </tr>\n",
              "    <tr>\n",
              "      <th>marital-status</th>\n",
              "      <th></th>\n",
              "      <th></th>\n",
              "    </tr>\n",
              "  </thead>\n",
              "  <tbody>\n",
              "    <tr>\n",
              "      <th>Divorced</th>\n",
              "      <td>3980</td>\n",
              "      <td>463</td>\n",
              "    </tr>\n",
              "    <tr>\n",
              "      <th>Married-AF-spouse</th>\n",
              "      <td>13</td>\n",
              "      <td>10</td>\n",
              "    </tr>\n",
              "    <tr>\n",
              "      <th>Married-civ-spouse</th>\n",
              "      <td>8284</td>\n",
              "      <td>6692</td>\n",
              "    </tr>\n",
              "    <tr>\n",
              "      <th>Married-spouse-absent</th>\n",
              "      <td>384</td>\n",
              "      <td>34</td>\n",
              "    </tr>\n",
              "    <tr>\n",
              "      <th>Never-married</th>\n",
              "      <td>10192</td>\n",
              "      <td>491</td>\n",
              "    </tr>\n",
              "    <tr>\n",
              "      <th>Separated</th>\n",
              "      <td>959</td>\n",
              "      <td>66</td>\n",
              "    </tr>\n",
              "    <tr>\n",
              "      <th>Widowed</th>\n",
              "      <td>908</td>\n",
              "      <td>85</td>\n",
              "    </tr>\n",
              "  </tbody>\n",
              "</table>\n",
              "</div>"
            ],
            "text/plain": [
              "salary                 <=50K  >50K\n",
              "marital-status                    \n",
              "Divorced                3980   463\n",
              "Married-AF-spouse         13    10\n",
              "Married-civ-spouse      8284  6692\n",
              "Married-spouse-absent    384    34\n",
              "Never-married          10192   491\n",
              "Separated                959    66\n",
              "Widowed                  908    85"
            ]
          },
          "metadata": {},
          "execution_count": 60
        }
      ]
    },
    {
      "cell_type": "code",
      "metadata": {
        "id": "ADRnK0rR19Gh"
      },
      "source": [
        "sum_married = data[(data.salary=='>50K') & (data['marital-status']=='Married-AF-spouse')]['age'].count()+ data[(data.salary=='>50K') & (data['marital-status']=='Married-civ-spouse')]['age'].count() + data[(data.salary=='>50K') & (data['marital-status']=='Married-spouse-absent')]['age'].count()"
      ],
      "execution_count": 92,
      "outputs": []
    },
    {
      "cell_type": "code",
      "metadata": {
        "id": "THxaep5U3gLG"
      },
      "source": [
        "sum_not_married = data[(data.salary=='>50K') & (data['marital-status']!='Married-AF-spouse') & (data['marital-status']!='Married-spouse-absent') & (data['marital-status']!='Married-civ-spouse')]['age'].count()"
      ],
      "execution_count": 94,
      "outputs": []
    },
    {
      "cell_type": "code",
      "metadata": {
        "colab": {
          "base_uri": "https://localhost:8080/"
        },
        "id": "yNmAIL1g1eQ2",
        "outputId": "3a08fa23-cae8-4b00-d02c-651d1726a94e"
      },
      "source": [
        "sum_married/sum_not_married"
      ],
      "execution_count": 95,
      "outputs": [
        {
          "output_type": "execute_result",
          "data": {
            "text/plain": [
              "6.095927601809954"
            ]
          },
          "metadata": {},
          "execution_count": 95
        }
      ]
    },
    {
      "cell_type": "markdown",
      "metadata": {
        "id": "SOqJ-_pnslQc"
      },
      "source": [
        "**9. Какое максимальное число часов человек работает в неделю (признак *hours-per-week*)? Сколько людей работают такое количество часов и каков среди них процент зарабатывающих много?**"
      ]
    },
    {
      "cell_type": "code",
      "metadata": {
        "colab": {
          "base_uri": "https://localhost:8080/"
        },
        "id": "zogsUGgR4lv8",
        "outputId": "c0c95f79-568b-45de-b522-091990b56d2b"
      },
      "source": [
        "data['hours-per-week'].max()"
      ],
      "execution_count": 104,
      "outputs": [
        {
          "output_type": "execute_result",
          "data": {
            "text/plain": [
              "99"
            ]
          },
          "metadata": {},
          "execution_count": 104
        }
      ]
    },
    {
      "cell_type": "code",
      "metadata": {
        "collapsed": true,
        "colab": {
          "base_uri": "https://localhost:8080/"
        },
        "id": "YleGQjoYslQd",
        "outputId": "2f31ea1c-7635-49f1-b1c8-cf3fa5e3369e"
      },
      "source": [
        "data[data['hours-per-week'] == data['hours-per-week'].max()]['age'].count()"
      ],
      "execution_count": 110,
      "outputs": [
        {
          "output_type": "execute_result",
          "data": {
            "text/plain": [
              "85"
            ]
          },
          "metadata": {},
          "execution_count": 110
        }
      ]
    },
    {
      "cell_type": "code",
      "metadata": {
        "colab": {
          "base_uri": "https://localhost:8080/"
        },
        "id": "Xus3vVgh5U1X",
        "outputId": "9223e147-b4c9-4f76-f769-9d83b36526c5"
      },
      "source": [
        "data[(data['hours-per-week'] == data['hours-per-week'].max()) & (data.salary=='>50K')]['age'].count() / (data[data['hours-per-week'] == data['hours-per-week'].max()]['age'].count()) *100"
      ],
      "execution_count": 113,
      "outputs": [
        {
          "output_type": "execute_result",
          "data": {
            "text/plain": [
              "29.411764705882355"
            ]
          },
          "metadata": {},
          "execution_count": 113
        }
      ]
    },
    {
      "cell_type": "markdown",
      "metadata": {
        "id": "h8gSlqd1slQd"
      },
      "source": [
        "**10. Посчитайте среднее время работы (*hours-per-week*) зарабатывающих мало и много (*salary*) для каждой страны (*native-country*).**"
      ]
    },
    {
      "cell_type": "code",
      "metadata": {
        "id": "ZoxLsGJs6pqU"
      },
      "source": [
        "df = data.groupby(['native-country', 'salary'], as_index=False).agg({'hours-per-week' : 'mean'})"
      ],
      "execution_count": 137,
      "outputs": []
    },
    {
      "cell_type": "code",
      "metadata": {
        "colab": {
          "base_uri": "https://localhost:8080/",
          "height": 110
        },
        "id": "fn6DR4a79ipL",
        "outputId": "4919ce2f-7802-4ec6-fbd3-6baaa23464ba"
      },
      "source": [
        "df[df['native-country'] == 'Japan']"
      ],
      "execution_count": 139,
      "outputs": [
        {
          "output_type": "execute_result",
          "data": {
            "text/html": [
              "<div>\n",
              "<style scoped>\n",
              "    .dataframe tbody tr th:only-of-type {\n",
              "        vertical-align: middle;\n",
              "    }\n",
              "\n",
              "    .dataframe tbody tr th {\n",
              "        vertical-align: top;\n",
              "    }\n",
              "\n",
              "    .dataframe thead th {\n",
              "        text-align: right;\n",
              "    }\n",
              "</style>\n",
              "<table border=\"1\" class=\"dataframe\">\n",
              "  <thead>\n",
              "    <tr style=\"text-align: right;\">\n",
              "      <th></th>\n",
              "      <th>native-country</th>\n",
              "      <th>salary</th>\n",
              "      <th>hours-per-week</th>\n",
              "    </tr>\n",
              "  </thead>\n",
              "  <tbody>\n",
              "    <tr>\n",
              "      <th>47</th>\n",
              "      <td>Japan</td>\n",
              "      <td>&lt;=50K</td>\n",
              "      <td>41.000000</td>\n",
              "    </tr>\n",
              "    <tr>\n",
              "      <th>48</th>\n",
              "      <td>Japan</td>\n",
              "      <td>&gt;50K</td>\n",
              "      <td>47.958333</td>\n",
              "    </tr>\n",
              "  </tbody>\n",
              "</table>\n",
              "</div>"
            ],
            "text/plain": [
              "   native-country salary  hours-per-week\n",
              "47          Japan  <=50K       41.000000\n",
              "48          Japan   >50K       47.958333"
            ]
          },
          "metadata": {},
          "execution_count": 139
        }
      ]
    }
  ]
}